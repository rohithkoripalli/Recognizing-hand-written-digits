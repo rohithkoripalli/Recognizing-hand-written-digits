{
 "cells": [
  {
   "cell_type": "code",
   "execution_count": 1,
   "metadata": {},
   "outputs": [
    {
     "data": {
      "text/plain": [
       "'1.12.0'"
      ]
     },
     "execution_count": 1,
     "metadata": {},
     "output_type": "execute_result"
    }
   ],
   "source": [
    "import tensorflow as tf\n",
    "tf.__version__"
   ]
  },
  {
   "cell_type": "code",
   "execution_count": 4,
   "metadata": {
    "collapsed": true
   },
   "outputs": [],
   "source": [
    "mnist = tf.keras.datasets.mnist"
   ]
  },
  {
   "cell_type": "code",
   "execution_count": 13,
   "metadata": {},
   "outputs": [],
   "source": [
    "(x_train,y_train) , (x_test,y_test) = mnist.load_data()\n",
    "x_train = tf.keras.utils.normalize(x_train , axis = 1)\n",
    "x_test = tf.keras.utils.normalize(x_test , axis = 1)\n",
    "\n",
    "model = tf.keras.models.Sequential() \n",
    "model.add(tf.keras.layers.Flatten())\n",
    "model.add(tf.keras.layers.Dense(128,activation = tf.nn.relu))\n",
    "model.add(tf.keras.layers.Dense(128,activation = tf.nn.relu))\n",
    "model.add(tf.keras.layers.Dense(10,activation = tf.nn.softmax))\n",
    "model.compile(optimizer='adam',\n",
    "              loss='sparse_categorical_crossentropy',\n",
    "              metrics=['accuracy'])"
   ]
  },
  {
   "cell_type": "code",
   "execution_count": 19,
   "metadata": {
    "scrolled": false
   },
   "outputs": [
    {
     "data": {
      "image/png": "[encoded data removed]",
      "text/plain": [
       "<matplotlib.figure.Figure at 0x13451d973c8>"
      ]
     },
     "metadata": {},
     "output_type": "display_data"
    }
   ],
   "source": [
    "import matplotlib.pyplot as plt\n",
    "\n",
    "plt.imshow(x_train[0])\n",
    "plt.show()"
   ]
  },
  {
   "cell_type": "code",
   "execution_count": null,
   "metadata": {
    "collapsed": true
   },
   "outputs": [],
   "source": []
  },
  {
   "cell_type": "code",
   "execution_count": 14,
   "metadata": {},
   "outputs": [
    {
     "name": "stdout",
     "output_type": "stream",
     "text": [
      "Epoch 1/3\n",
      "60000/60000 [==============================] - 49s 816us/step - loss: 0.2574 - acc: 0.9257\n",
      "Epoch 2/3\n",
      "60000/60000 [==============================] - 16s 270us/step - loss: 0.1037 - acc: 0.9674\n",
      "Epoch 3/3\n",
      "60000/60000 [==============================] - 16s 265us/step - loss: 0.0704 - acc: 0.9781\n"
     ]
    },
    {
     "data": {
      "text/plain": [
       "<tensorflow.python.keras.callbacks.History at 0x13403c39e80>"
      ]
     },
     "execution_count": 14,
     "metadata": {},
     "output_type": "execute_result"
    }
   ],
   "source": [
    "model.fit(x_train,y_train,epochs= 3)"
   ]
  },
  {
   "cell_type": "code",
   "execution_count": 17,
   "metadata": {
    "scrolled": true
   },
   "outputs": [
    {
     "name": "stdout",
     "output_type": "stream",
     "text": [
      "10000/10000 [==============================] - 4s 372us/step\n",
      "0.9724\n",
      "0.0926315043638\n"
     ]
    }
   ],
   "source": [
    "loss_val,acc_val = model.evaluate(x_test,y_test)\n",
    "print(acc_val)\n",
    "print(loss_val)"
   ]
  },
  {
   "cell_type": "code",
   "execution_count": 22,
   "metadata": {},
   "outputs": [],
   "source": [
    "import numpy as np"
   ]
  },
  {
   "cell_type": "code",
   "execution_count": 32,
   "metadata": {},
   "outputs": [
    {
     "name": "stdout",
     "output_type": "stream",
     "text": [
      "[[  7.93303734e-09   6.33479260e-08   1.47805176e-05 ...,   9.99949813e-01\n",
      "    5.62097071e-08   3.72795341e-07]\n",
      " [  4.94197138e-07   3.39225749e-04   9.99247968e-01 ...,   9.38342914e-09\n",
      "    1.38680093e-06   7.31818217e-10]\n",
      " [  1.31793604e-06   9.99541759e-01   1.17476775e-05 ...,   2.80635984e-04\n",
      "    1.06324573e-04   4.97087012e-06]\n",
      " ..., \n",
      " [  2.18369967e-09   9.94820226e-08   8.38374348e-09 ...,   1.90645242e-05\n",
      "    5.03044339e-06   8.98597500e-05]\n",
      " [  1.28583486e-06   1.70489997e-07   1.10552556e-07 ...,   1.27657563e-06\n",
      "    1.39080384e-03   3.53816267e-06]\n",
      " [  1.12576674e-06   1.58547646e-08   1.84284630e-07 ...,   9.34908470e-11\n",
      "    2.30740902e-08   9.45277421e-08]]\n"
     ]
    }
   ],
   "source": [
    "predictions = model.predict([x_test])\n",
    "print(predictions)"
   ]
  },
  {
   "cell_type": "code",
   "execution_count": 34,
   "metadata": {},
   "outputs": [
    {
     "name": "stdout",
     "output_type": "stream",
     "text": [
      "7\n"
     ]
    }
   ],
   "source": [
    "print(np.argmax(predictions[0]))"
   ]
  }
 ],
 "metadata": {
  "kernelspec": {
   "display_name": "Python 3",
   "language": "python",
   "name": "python3"
  },
  "language_info": {
   "codemirror_mode": {
    "name": "ipython",
    "version": 3
   },
   "file_extension": ".py",
   "mimetype": "text/x-python",
   "name": "python",
   "nbconvert_exporter": "python",
   "pygments_lexer": "ipython3",
   "version": "3.6.1"
  }
 },
 "nbformat": 4,
 "nbformat_minor": 2
}
